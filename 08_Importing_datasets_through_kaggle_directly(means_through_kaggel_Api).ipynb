{
  "nbformat": 4,
  "nbformat_minor": 0,
  "metadata": {
    "colab": {
      "provenance": [],
      "mount_file_id": "1675fEoWzgzWra9DID3sibftWkgbhm6si",
      "authorship_tag": "ABX9TyN6Sth0DK8Th5x2+TNea0nJ",
      "include_colab_link": true
    },
    "kernelspec": {
      "name": "python3",
      "display_name": "Python 3"
    },
    "language_info": {
      "name": "python"
    }
  },
  "cells": [
    {
      "cell_type": "markdown",
      "metadata": {
        "id": "view-in-github",
        "colab_type": "text"
      },
      "source": [
        "<a href=\"https://colab.research.google.com/github/Abdullah-NI/NoteBooks/blob/main/08_Importing_datasets_through_kaggle_directly(means_through_kaggel_Api).ipynb\" target=\"_parent\"><img src=\"https://colab.research.google.com/assets/colab-badge.svg\" alt=\"Open In Colab\"/></a>"
      ]
    },
    {
      "cell_type": "code",
      "execution_count": null,
      "metadata": {
        "id": "aq-byOun859C"
      },
      "outputs": [],
      "source": []
    },
    {
      "cell_type": "markdown",
      "source": [
        "API: appliation programing interface (api allow two software or two application to talk each other and carry out some function here to share data)"
      ],
      "metadata": {
        "id": "D5fD_0K99NBW"
      }
    },
    {
      "cell_type": "code",
      "source": [
        "#installling  the kaggle library\n",
        "!pip install kaggle"
      ],
      "metadata": {
        "colab": {
          "base_uri": "https://localhost:8080/"
        },
        "id": "q72WiqwO985G",
        "outputId": "9206d8b3-242d-4f66-86e3-9fdc06f78d62"
      },
      "execution_count": null,
      "outputs": [
        {
          "output_type": "stream",
          "name": "stdout",
          "text": [
            "Requirement already satisfied: kaggle in /usr/local/lib/python3.10/dist-packages (1.6.17)\n",
            "Requirement already satisfied: six>=1.10 in /usr/local/lib/python3.10/dist-packages (from kaggle) (1.17.0)\n",
            "Requirement already satisfied: certifi>=2023.7.22 in /usr/local/lib/python3.10/dist-packages (from kaggle) (2024.12.14)\n",
            "Requirement already satisfied: python-dateutil in /usr/local/lib/python3.10/dist-packages (from kaggle) (2.8.2)\n",
            "Requirement already satisfied: requests in /usr/local/lib/python3.10/dist-packages (from kaggle) (2.32.3)\n",
            "Requirement already satisfied: tqdm in /usr/local/lib/python3.10/dist-packages (from kaggle) (4.67.1)\n",
            "Requirement already satisfied: python-slugify in /usr/local/lib/python3.10/dist-packages (from kaggle) (8.0.4)\n",
            "Requirement already satisfied: urllib3 in /usr/local/lib/python3.10/dist-packages (from kaggle) (2.2.3)\n",
            "Requirement already satisfied: bleach in /usr/local/lib/python3.10/dist-packages (from kaggle) (6.2.0)\n",
            "Requirement already satisfied: webencodings in /usr/local/lib/python3.10/dist-packages (from bleach->kaggle) (0.5.1)\n",
            "Requirement already satisfied: text-unidecode>=1.3 in /usr/local/lib/python3.10/dist-packages (from python-slugify->kaggle) (1.3)\n",
            "Requirement already satisfied: charset-normalizer<4,>=2 in /usr/local/lib/python3.10/dist-packages (from requests->kaggle) (3.4.0)\n",
            "Requirement already satisfied: idna<4,>=2.5 in /usr/local/lib/python3.10/dist-packages (from requests->kaggle) (3.10)\n"
          ]
        }
      ]
    },
    {
      "cell_type": "markdown",
      "source": [
        "**Note: email id must be same in kaggle which we use in google colab**"
      ],
      "metadata": {
        "id": "OiuMxE0g-x3W"
      }
    },
    {
      "cell_type": "markdown",
      "source": [
        "Upload your kaggel .json file"
      ],
      "metadata": {
        "id": "CbEC-ajFCgw8"
      }
    },
    {
      "cell_type": "code",
      "source": [
        "#configure the path of kaggel.json file\n",
        "#first kaggle.json file upload kari then this commend run kari\n",
        "\n",
        "# !mkdir .p ~/.kaggle\n",
        "# !cp kaggle.json ~/.kaggle/\n",
        "# !chmod 600 ~/.kaggle/kaggle.json\n",
        "\n",
        "!mkdir .p ~/.kaggle\n",
        "!cp /content/drive/MyDrive/AllDataset/kaggle.json ~/.kaggle/    ## if yaha All Dataset name ka folder hota to hame space ko remove karne ke liye All\\\n",
        "!chmod 600 ~/.kaggle/kaggle.json"
      ],
      "metadata": {
        "id": "0hkQQChsGTnz",
        "colab": {
          "base_uri": "https://localhost:8080/"
        },
        "outputId": "5e82e77a-8458-4946-9874-d35871d11745"
      },
      "execution_count": null,
      "outputs": [
        {
          "output_type": "stream",
          "name": "stdout",
          "text": [
            "mkdir: cannot create directory ‘.p’: File exists\n",
            "mkdir: cannot create directory ‘/root/.kaggle’: File exists\n"
          ]
        }
      ]
    },
    {
      "cell_type": "markdown",
      "source": [
        "Importing the earthquake dataset"
      ],
      "metadata": {
        "id": "ue-Be5o4G0sr"
      }
    },
    {
      "cell_type": "code",
      "source": [
        "# Api to fetch the dataset from kaggle\n",
        "!kaggle competitions download -c LANL-Earthquake-Prediction"
      ],
      "metadata": {
        "colab": {
          "base_uri": "https://localhost:8080/"
        },
        "id": "U-vqHUZoDBXV",
        "outputId": "39bf4c09-6313-4ca6-be64-cc27e4209fce"
      },
      "execution_count": null,
      "outputs": [
        {
          "output_type": "stream",
          "name": "stdout",
          "text": [
            "Downloading LANL-Earthquake-Prediction.zip to /content\n",
            "100% 2.27G/2.27G [00:31<00:00, 45.7MB/s]\n",
            "100% 2.27G/2.27G [00:31<00:00, 78.3MB/s]\n"
          ]
        }
      ]
    },
    {
      "cell_type": "code",
      "source": [
        "#extracting the compressed dataset\n",
        "from zipfile import ZipFile\n",
        "dataset = '/content/LANL-Earthquake-Prediction.zip'\n",
        "\n",
        "with ZipFile(dataset,'r') as zip:\n",
        "  zip.extractall()\n",
        "  print('The dataset is extracted')\n"
      ],
      "metadata": {
        "id": "pZrsra0xD08U",
        "colab": {
          "base_uri": "https://localhost:8080/"
        },
        "outputId": "f7ec768c-8421-4688-f853-b7ac3f08dee3"
      },
      "execution_count": null,
      "outputs": [
        {
          "output_type": "stream",
          "name": "stdout",
          "text": [
            "The dataset is extracted\n"
          ]
        }
      ]
    },
    {
      "cell_type": "code",
      "source": [
        "type(dataset)"
      ],
      "metadata": {
        "colab": {
          "base_uri": "https://localhost:8080/"
        },
        "id": "3QNM_HTDI6hT",
        "outputId": "25151422-fae2-4180-8266-6a8e569b6587"
      },
      "execution_count": null,
      "outputs": [
        {
          "output_type": "execute_result",
          "data": {
            "text/plain": [
              "str"
            ]
          },
          "metadata": {},
          "execution_count": 12
        }
      ]
    },
    {
      "cell_type": "code",
      "source": [],
      "metadata": {
        "id": "M8D9UXDVhx1F"
      },
      "execution_count": null,
      "outputs": []
    }
  ]
}