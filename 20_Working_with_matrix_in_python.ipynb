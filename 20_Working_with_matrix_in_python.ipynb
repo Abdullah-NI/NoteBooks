{
  "nbformat": 4,
  "nbformat_minor": 0,
  "metadata": {
    "colab": {
      "provenance": [],
      "authorship_tag": "ABX9TyP3JSc6cGxmcdIlmaEeFVv3",
      "include_colab_link": true
    },
    "kernelspec": {
      "name": "python3",
      "display_name": "Python 3"
    },
    "language_info": {
      "name": "python"
    }
  },
  "cells": [
    {
      "cell_type": "markdown",
      "metadata": {
        "id": "view-in-github",
        "colab_type": "text"
      },
      "source": [
        "<a href=\"https://colab.research.google.com/github/Abdullah-NI/NoteBooks/blob/main/20_Working_with_matrix_in_python.ipynb\" target=\"_parent\"><img src=\"https://colab.research.google.com/assets/colab-badge.svg\" alt=\"Open In Colab\"/></a>"
      ]
    },
    {
      "cell_type": "code",
      "execution_count": null,
      "metadata": {
        "id": "6zaOD11Az2Xe"
      },
      "outputs": [],
      "source": [
        "import numpy as np"
      ]
    },
    {
      "cell_type": "markdown",
      "source": [
        "Creating a matrix using numpy"
      ],
      "metadata": {
        "id": "22JMrXM50CTC"
      }
    },
    {
      "cell_type": "code",
      "source": [
        "matrix_1=np.array([[2,3],[6,7]])\n",
        "print(matrix_1)"
      ],
      "metadata": {
        "colab": {
          "base_uri": "https://localhost:8080/"
        },
        "id": "_Vz98bDe0I9F",
        "outputId": "cf2e673c-a974-4847-b1fe-726c74e0ae2b"
      },
      "execution_count": null,
      "outputs": [
        {
          "output_type": "stream",
          "name": "stdout",
          "text": [
            "[[2 3]\n",
            " [6 7]]\n"
          ]
        }
      ]
    },
    {
      "cell_type": "code",
      "source": [
        "matrix_1.shape   #  yaha () nhi lagaya bcz ye tuple return karega       tuple' object is not callable"
      ],
      "metadata": {
        "colab": {
          "base_uri": "https://localhost:8080/"
        },
        "id": "GsRc7LZw0VHT",
        "outputId": "3dfbef18-8cd3-4075-b7d3-c122bf513cfb"
      },
      "execution_count": null,
      "outputs": [
        {
          "output_type": "execute_result",
          "data": {
            "text/plain": [
              "(2, 2)"
            ]
          },
          "metadata": {},
          "execution_count": 5
        }
      ]
    },
    {
      "cell_type": "code",
      "source": [
        "matrix_2=np.array([[2,3,4],[6,59,60],[70,37,29]])\n",
        "print(matrix_2)"
      ],
      "metadata": {
        "colab": {
          "base_uri": "https://localhost:8080/"
        },
        "id": "n800uoUN0e2l",
        "outputId": "7f15253a-045c-4fe8-e496-3902a5d17ebd"
      },
      "execution_count": null,
      "outputs": [
        {
          "output_type": "stream",
          "name": "stdout",
          "text": [
            "[[ 2  3  4]\n",
            " [ 6 59 60]\n",
            " [70 37 29]]\n"
          ]
        }
      ]
    },
    {
      "cell_type": "code",
      "source": [
        "matrix_2.shape"
      ],
      "metadata": {
        "colab": {
          "base_uri": "https://localhost:8080/"
        },
        "id": "9gNa8BuN1bpa",
        "outputId": "cebac9f8-7bf8-424d-b252-b5865bf88e13"
      },
      "execution_count": null,
      "outputs": [
        {
          "output_type": "execute_result",
          "data": {
            "text/plain": [
              "(3, 3)"
            ]
          },
          "metadata": {},
          "execution_count": 7
        }
      ]
    },
    {
      "cell_type": "markdown",
      "source": [
        "Creating matrix with random value"
      ],
      "metadata": {
        "id": "Gj0Qa8sW1jVs"
      }
    },
    {
      "cell_type": "code",
      "source": [
        "random_matrix=np.random.rand(3,3)\n",
        "print(random_matrix)"
      ],
      "metadata": {
        "colab": {
          "base_uri": "https://localhost:8080/"
        },
        "id": "a_8k3DRf1e1w",
        "outputId": "2fcb4ab8-cc2b-4e74-bb2a-c1109c6aad5e"
      },
      "execution_count": null,
      "outputs": [
        {
          "output_type": "stream",
          "name": "stdout",
          "text": [
            "[[0.92562036 0.69368811 0.34323033]\n",
            " [0.69748455 0.08201449 0.13167168]\n",
            " [0.88066721 0.56783716 0.89694448]]\n"
          ]
        }
      ]
    },
    {
      "cell_type": "code",
      "source": [
        "#creating eith int\n",
        "random_matrix_int=np.random.randint(100,size=(4,5))\n",
        "print(random_matrix_int)"
      ],
      "metadata": {
        "colab": {
          "base_uri": "https://localhost:8080/"
        },
        "id": "PT2cSxVX15kS",
        "outputId": "3e08b116-5712-488c-b53c-35a1c0ac2209"
      },
      "execution_count": null,
      "outputs": [
        {
          "output_type": "stream",
          "name": "stdout",
          "text": [
            "[[13 99 91 18 24]\n",
            " [32 50 71 22 23]\n",
            " [33  3 74 82 23]\n",
            " [96 88  6 31 80]]\n"
          ]
        }
      ]
    },
    {
      "cell_type": "code",
      "source": [],
      "metadata": {
        "id": "g3UoeXaK2Qna"
      },
      "execution_count": null,
      "outputs": []
    },
    {
      "cell_type": "markdown",
      "source": [
        "matrix_with  all value ones"
      ],
      "metadata": {
        "id": "SOjKOlPJ2pTY"
      }
    },
    {
      "cell_type": "code",
      "source": [
        "matrix_ones=np.ones((2,3))\n",
        "print(matrix_ones)"
      ],
      "metadata": {
        "colab": {
          "base_uri": "https://localhost:8080/"
        },
        "id": "mRKSwpV42s6G",
        "outputId": "93117139-e8a1-4214-98b8-e9bcb2dfdb09"
      },
      "execution_count": null,
      "outputs": [
        {
          "output_type": "stream",
          "name": "stdout",
          "text": [
            "[[1. 1. 1.]\n",
            " [1. 1. 1.]]\n"
          ]
        }
      ]
    },
    {
      "cell_type": "code",
      "source": [],
      "metadata": {
        "id": "fM3y_W7g20Tr"
      },
      "execution_count": null,
      "outputs": []
    }
  ]
}