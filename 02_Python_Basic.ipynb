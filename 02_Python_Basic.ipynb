{
  "nbformat": 4,
  "nbformat_minor": 0,
  "metadata": {
    "colab": {
      "provenance": [],
      "authorship_tag": "ABX9TyO5vjbJXQKbvFU4KJ8WprxZ",
      "include_colab_link": true
    },
    "kernelspec": {
      "name": "python3",
      "display_name": "Python 3"
    },
    "language_info": {
      "name": "python"
    }
  },
  "cells": [
    {
      "cell_type": "markdown",
      "metadata": {
        "id": "view-in-github",
        "colab_type": "text"
      },
      "source": [
        "<a href=\"https://colab.research.google.com/github/Abdullah-NI/NoteBooks/blob/main/02_Python_Basic.ipynb\" target=\"_parent\"><img src=\"https://colab.research.google.com/assets/colab-badge.svg\" alt=\"Open In Colab\"/></a>"
      ]
    },
    {
      "cell_type": "code",
      "execution_count": 1,
      "metadata": {
        "id": "LLpJBVW8-xVW"
      },
      "outputs": [],
      "source": []
    },
    {
      "cell_type": "markdown",
      "source": [
        "Programming language used for machine learning\n",
        "\n",
        "1. python\n",
        "2. R"
      ],
      "metadata": {
        "id": "D27TENUS-2S2"
      }
    },
    {
      "cell_type": "markdown",
      "source": [
        "**Print function**"
      ],
      "metadata": {
        "id": "n0abIltD_Bp9"
      }
    },
    {
      "cell_type": "code",
      "source": [
        "print(\"machine learning\")"
      ],
      "metadata": {
        "id": "00qSiOiF--yl",
        "colab": {
          "base_uri": "https://localhost:8080/"
        },
        "outputId": "ff27f8c9-662b-470a-806b-fe413c7b17ab"
      },
      "execution_count": 2,
      "outputs": [
        {
          "output_type": "stream",
          "name": "stdout",
          "text": [
            "machine learning\n"
          ]
        }
      ]
    },
    {
      "cell_type": "markdown",
      "source": [
        "# Basic datat types in python\n",
        "\n",
        "1. int\n",
        "2. float\n",
        "3. string\n",
        "\n",
        "\n"
      ],
      "metadata": {
        "id": "ZvRxGPgow97o"
      }
    },
    {
      "cell_type": "code",
      "source": [
        "type(5)"
      ],
      "metadata": {
        "colab": {
          "base_uri": "https://localhost:8080/"
        },
        "id": "jLx6ibezxDrX",
        "outputId": "6e01fcc4-0396-42f6-8f9f-15b8d1f7aaf1"
      },
      "execution_count": 3,
      "outputs": [
        {
          "output_type": "execute_result",
          "data": {
            "text/plain": [
              "int"
            ]
          },
          "metadata": {},
          "execution_count": 3
        }
      ]
    },
    {
      "cell_type": "code",
      "source": [
        "type(8.45)"
      ],
      "metadata": {
        "colab": {
          "base_uri": "https://localhost:8080/"
        },
        "id": "5tcoUjpUx3g4",
        "outputId": "a1312382-6f28-4071-ff8e-85470ab4364c"
      },
      "execution_count": 4,
      "outputs": [
        {
          "output_type": "execute_result",
          "data": {
            "text/plain": [
              "float"
            ]
          },
          "metadata": {},
          "execution_count": 4
        }
      ]
    },
    {
      "cell_type": "code",
      "source": [
        "type(\"rtrtrtr\")"
      ],
      "metadata": {
        "colab": {
          "base_uri": "https://localhost:8080/"
        },
        "id": "ZjUXY78rx5-3",
        "outputId": "0ba04104-2afd-4cb1-e2e1-aaa25e400e2d"
      },
      "execution_count": 5,
      "outputs": [
        {
          "output_type": "execute_result",
          "data": {
            "text/plain": [
              "str"
            ]
          },
          "metadata": {},
          "execution_count": 5
        }
      ]
    },
    {
      "cell_type": "markdown",
      "source": [
        "#constant and vaiable"
      ],
      "metadata": {
        "id": "o6Y0DdW4zcT_"
      }
    },
    {
      "cell_type": "code",
      "source": [
        "x=y=z=78\n",
        "print(x)\n",
        "print(y)"
      ],
      "metadata": {
        "colab": {
          "base_uri": "https://localhost:8080/"
        },
        "id": "R-i9QiC4zk1H",
        "outputId": "206bd8c0-9b41-4f95-a1b0-98a4cf03dee0"
      },
      "execution_count": 6,
      "outputs": [
        {
          "output_type": "stream",
          "name": "stdout",
          "text": [
            "78\n",
            "78\n"
          ]
        }
      ]
    },
    {
      "cell_type": "markdown",
      "source": [
        "#input function"
      ],
      "metadata": {
        "id": "JIxYgu3-0Y2n"
      }
    },
    {
      "cell_type": "code",
      "source": [
        "num1=int(input(\"enter a num\"))\n",
        "num2=int(input(\"enter 2 nd num\"))\n",
        "sum=num1+num2\n",
        "print(sum)"
      ],
      "metadata": {
        "colab": {
          "base_uri": "https://localhost:8080/"
        },
        "id": "NtHzt05u0ap2",
        "outputId": "6dcc059b-7955-4579-c0b8-990344f87474"
      },
      "execution_count": 7,
      "outputs": [
        {
          "output_type": "stream",
          "name": "stdout",
          "text": [
            "enter a num2\n",
            "enter 2 nd num3\n",
            "5\n"
          ]
        }
      ]
    },
    {
      "cell_type": "code",
      "source": [
        "print(num1*num2)"
      ],
      "metadata": {
        "colab": {
          "base_uri": "https://localhost:8080/"
        },
        "id": "l2GSUQgS0l82",
        "outputId": "a7f377bc-f4c0-44be-c447-4521afa6e4e0"
      },
      "execution_count": 8,
      "outputs": [
        {
          "output_type": "stream",
          "name": "stdout",
          "text": [
            "6\n"
          ]
        }
      ]
    },
    {
      "cell_type": "code",
      "source": [
        "z=5+4j\n",
        "type(z)"
      ],
      "metadata": {
        "colab": {
          "base_uri": "https://localhost:8080/"
        },
        "id": "bzEfhibM2I9H",
        "outputId": "4272556b-4f5c-49d5-831c-ab092b3e2068"
      },
      "execution_count": 9,
      "outputs": [
        {
          "output_type": "execute_result",
          "data": {
            "text/plain": [
              "complex"
            ]
          },
          "metadata": {},
          "execution_count": 9
        }
      ]
    },
    {
      "cell_type": "code",
      "source": [
        "print(\"hellow\"*5)"
      ],
      "metadata": {
        "id": "ijpBnlBe2lK3",
        "colab": {
          "base_uri": "https://localhost:8080/"
        },
        "outputId": "8f3ffe2e-c268-447d-dd40-ef7ef82e6b48"
      },
      "execution_count": 10,
      "outputs": [
        {
          "output_type": "stream",
          "name": "stdout",
          "text": [
            "hellowhellowhellowhellowhellow\n"
          ]
        }
      ]
    },
    {
      "cell_type": "markdown",
      "source": [
        "Basic data types in python\n",
        "1. integer\n",
        "2.floating point\n",
        "3. complex\n",
        "4. boolean\n",
        "6. string"
      ],
      "metadata": {
        "id": "8pkHki4C_e7V"
      }
    },
    {
      "cell_type": "code",
      "source": [],
      "metadata": {
        "id": "boXxszjJ_ts1"
      },
      "execution_count": 10,
      "outputs": []
    },
    {
      "cell_type": "markdown",
      "source": [
        "Convrsion of one data typr to another"
      ],
      "metadata": {
        "id": "jP1jMiUl_u29"
      }
    },
    {
      "cell_type": "code",
      "source": [],
      "metadata": {
        "id": "J5qhq4JQ_ziV"
      },
      "execution_count": 10,
      "outputs": []
    },
    {
      "cell_type": "markdown",
      "source": [
        "Types of objects in python\n",
        "1. immutable objects\n",
        "2. mutable objects\n",
        "\n",
        "immtable object\n",
        "\n",
        "1. int\n",
        "2. float.\n",
        "3. string\n",
        "4. bool\n",
        "5. tuple\n",
        "\n",
        "mutable objects\n",
        "1. list\n",
        "2. set\n",
        "3. dictionarty\n"
      ],
      "metadata": {
        "id": "IDvEccem_0C9"
      }
    },
    {
      "cell_type": "code",
      "source": [
        "mytup=(1,2,3,4)\n",
        "#mytup.append(7)"
      ],
      "metadata": {
        "id": "MXFwvfZCEDWz"
      },
      "execution_count": 11,
      "outputs": []
    },
    {
      "cell_type": "code",
      "source": [],
      "metadata": {
        "id": "cU-WqJRNAZTV"
      },
      "execution_count": 11,
      "outputs": []
    },
    {
      "cell_type": "markdown",
      "source": [
        "**Opratern in python**\n",
        "\n",
        "1. arithmetic oprater\n",
        "2. assignment oprater\n",
        "3. compparision oprater\n",
        "4. logical oprater\n",
        "5. identity oprater\n",
        "6. membership oprater\n"
      ],
      "metadata": {
        "id": "SiYB1QSxAiqW"
      }
    },
    {
      "cell_type": "code",
      "source": [
        "#identity oprater\n",
        "x=5\n",
        "y=6\n",
        "print(x is y)\n",
        "print(x is not y)"
      ],
      "metadata": {
        "colab": {
          "base_uri": "https://localhost:8080/"
        },
        "id": "BKZqACMKJRpQ",
        "outputId": "60f2e59c-0c52-4667-b5c8-ec184d0b857c"
      },
      "execution_count": 12,
      "outputs": [
        {
          "output_type": "stream",
          "name": "stdout",
          "text": [
            "False\n",
            "True\n"
          ]
        }
      ]
    },
    {
      "cell_type": "code",
      "source": [
        "#membership oprater\n",
        "list=[1,2,3,4,5]\n",
        "x=5\n",
        "y=10\n",
        "print(x in list)\n",
        "print(y not in list)"
      ],
      "metadata": {
        "colab": {
          "base_uri": "https://localhost:8080/"
        },
        "id": "1C0dyZHEOB2v",
        "outputId": "987c1663-b2ad-4f9b-835e-892ea36fc879"
      },
      "execution_count": 13,
      "outputs": [
        {
          "output_type": "stream",
          "name": "stdout",
          "text": [
            "True\n",
            "True\n"
          ]
        }
      ]
    },
    {
      "cell_type": "code",
      "source": [],
      "metadata": {
        "id": "00kVV5osA92V"
      },
      "execution_count": 13,
      "outputs": []
    },
    {
      "cell_type": "markdown",
      "source": [
        "If else statment"
      ],
      "metadata": {
        "id": "4QQh-5CFBF2O"
      }
    },
    {
      "cell_type": "code",
      "source": [],
      "metadata": {
        "id": "hVqT1G8ABH0F"
      },
      "execution_count": 13,
      "outputs": []
    },
    {
      "cell_type": "markdown",
      "source": [
        "loops"
      ],
      "metadata": {
        "id": "MpQkGuR5BId2"
      }
    },
    {
      "cell_type": "code",
      "source": [
        "i=0;\n",
        "while i<10:\n",
        "  print(i)\n",
        "  i+=1\n"
      ],
      "metadata": {
        "colab": {
          "base_uri": "https://localhost:8080/"
        },
        "id": "nC-mwTH0OqQO",
        "outputId": "0de35d76-0b38-4d9d-b5e3-3b3ee6b23daf"
      },
      "execution_count": 14,
      "outputs": [
        {
          "output_type": "stream",
          "name": "stdout",
          "text": [
            "0\n",
            "1\n",
            "2\n",
            "3\n",
            "4\n",
            "5\n",
            "6\n",
            "7\n",
            "8\n",
            "9\n"
          ]
        }
      ]
    },
    {
      "cell_type": "code",
      "source": [],
      "metadata": {
        "id": "I2rQ9hsCBM21"
      },
      "execution_count": 14,
      "outputs": []
    },
    {
      "cell_type": "markdown",
      "source": [
        "Functions"
      ],
      "metadata": {
        "id": "kx4YTe8oBSft"
      }
    },
    {
      "cell_type": "code",
      "source": [],
      "metadata": {
        "id": "M72gty-MBTiV"
      },
      "execution_count": 14,
      "outputs": []
    }
  ]
}