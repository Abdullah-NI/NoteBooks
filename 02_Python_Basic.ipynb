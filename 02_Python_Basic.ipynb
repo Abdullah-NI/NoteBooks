{
  "nbformat": 4,
  "nbformat_minor": 0,
  "metadata": {
    "colab": {
      "provenance": [],
      "authorship_tag": "ABX9TyProg8K6G+QjK/TY+N1Yhxk",
      "include_colab_link": true
    },
    "kernelspec": {
      "name": "python3",
      "display_name": "Python 3"
    },
    "language_info": {
      "name": "python"
    }
  },
  "cells": [
    {
      "cell_type": "markdown",
      "metadata": {
        "id": "view-in-github",
        "colab_type": "text"
      },
      "source": [
        "<a href=\"https://colab.research.google.com/github/Abdullah-NI/NoteBooks/blob/main/02_Python_Basic.ipynb\" target=\"_parent\"><img src=\"https://colab.research.google.com/assets/colab-badge.svg\" alt=\"Open In Colab\"/></a>"
      ]
    },
    {
      "cell_type": "code",
      "execution_count": null,
      "metadata": {
        "id": "LLpJBVW8-xVW"
      },
      "outputs": [],
      "source": []
    },
    {
      "cell_type": "markdown",
      "source": [
        "Programming language used for machine learning\n",
        "\n",
        "1. python\n",
        "2. R"
      ],
      "metadata": {
        "id": "D27TENUS-2S2"
      }
    },
    {
      "cell_type": "markdown",
      "source": [
        "**Print function**"
      ],
      "metadata": {
        "id": "n0abIltD_Bp9"
      }
    },
    {
      "cell_type": "code",
      "source": [],
      "metadata": {
        "id": "00qSiOiF--yl"
      },
      "execution_count": null,
      "outputs": []
    },
    {
      "cell_type": "markdown",
      "source": [
        "**basic data types**"
      ],
      "metadata": {
        "id": "wrMfYj5O_F3m"
      }
    },
    {
      "cell_type": "code",
      "source": [],
      "metadata": {
        "id": "NHBtjxON_OoF"
      },
      "execution_count": null,
      "outputs": []
    },
    {
      "cell_type": "markdown",
      "source": [
        "**Constant and variables**"
      ],
      "metadata": {
        "id": "ZJ9cq-BA_PPF"
      }
    },
    {
      "cell_type": "code",
      "source": [],
      "metadata": {
        "id": "oaqHAEyU_WgF"
      },
      "execution_count": null,
      "outputs": []
    },
    {
      "cell_type": "markdown",
      "source": [
        "**Input Function**"
      ],
      "metadata": {
        "id": "pUgxJ3LB_XQt"
      }
    },
    {
      "cell_type": "code",
      "source": [],
      "metadata": {
        "id": "x74cUUmK_efl"
      },
      "execution_count": null,
      "outputs": []
    },
    {
      "cell_type": "markdown",
      "source": [
        "Basic data types in python\n",
        "1. integer\n",
        "2.floating point\n",
        "3. complex\n",
        "4. boolean\n",
        "6. string"
      ],
      "metadata": {
        "id": "8pkHki4C_e7V"
      }
    },
    {
      "cell_type": "code",
      "source": [],
      "metadata": {
        "id": "boXxszjJ_ts1"
      },
      "execution_count": null,
      "outputs": []
    },
    {
      "cell_type": "markdown",
      "source": [
        "Convrsion of one data typr to another"
      ],
      "metadata": {
        "id": "jP1jMiUl_u29"
      }
    },
    {
      "cell_type": "code",
      "source": [],
      "metadata": {
        "id": "J5qhq4JQ_ziV"
      },
      "execution_count": null,
      "outputs": []
    },
    {
      "cell_type": "markdown",
      "source": [
        "Types of objects in python\n",
        "1. immutable objects\n",
        "2. mutable objects\n",
        "\n",
        "immtable object\n",
        "\n",
        "1. int\n",
        "2. float.\n",
        "3. string\n",
        "4. bool\n",
        "5. tuple\n",
        "\n",
        "mutable objects\n",
        "1. list\n",
        "2. set\n",
        "3. dictionarty\n"
      ],
      "metadata": {
        "id": "IDvEccem_0C9"
      }
    },
    {
      "cell_type": "code",
      "source": [],
      "metadata": {
        "id": "cU-WqJRNAZTV"
      },
      "execution_count": null,
      "outputs": []
    },
    {
      "cell_type": "markdown",
      "source": [
        "**Opratern in python**\n",
        "\n",
        "1. arithmetic oprater\n",
        "2. assignment oprater\n",
        "3. compparision oprater\n",
        "4. logical oprater\n",
        "5. identity oprater\n",
        "6. membership oprater\n"
      ],
      "metadata": {
        "id": "SiYB1QSxAiqW"
      }
    },
    {
      "cell_type": "code",
      "source": [],
      "metadata": {
        "id": "00kVV5osA92V"
      },
      "execution_count": null,
      "outputs": []
    },
    {
      "cell_type": "markdown",
      "source": [
        "If else statment"
      ],
      "metadata": {
        "id": "4QQh-5CFBF2O"
      }
    },
    {
      "cell_type": "code",
      "source": [],
      "metadata": {
        "id": "hVqT1G8ABH0F"
      },
      "execution_count": null,
      "outputs": []
    },
    {
      "cell_type": "markdown",
      "source": [
        "loops"
      ],
      "metadata": {
        "id": "MpQkGuR5BId2"
      }
    },
    {
      "cell_type": "code",
      "source": [],
      "metadata": {
        "id": "I2rQ9hsCBM21"
      },
      "execution_count": null,
      "outputs": []
    },
    {
      "cell_type": "markdown",
      "source": [
        "Functions"
      ],
      "metadata": {
        "id": "kx4YTe8oBSft"
      }
    },
    {
      "cell_type": "code",
      "source": [],
      "metadata": {
        "id": "M72gty-MBTiV"
      },
      "execution_count": null,
      "outputs": []
    }
  ]
}