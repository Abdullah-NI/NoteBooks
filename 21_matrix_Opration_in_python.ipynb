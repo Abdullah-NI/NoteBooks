{
  "nbformat": 4,
  "nbformat_minor": 0,
  "metadata": {
    "colab": {
      "provenance": [],
      "authorship_tag": "ABX9TyP85/OzV6xx+Pes4+WX/3eP",
      "include_colab_link": true
    },
    "kernelspec": {
      "name": "python3",
      "display_name": "Python 3"
    },
    "language_info": {
      "name": "python"
    }
  },
  "cells": [
    {
      "cell_type": "markdown",
      "metadata": {
        "id": "view-in-github",
        "colab_type": "text"
      },
      "source": [
        "<a href=\"https://colab.research.google.com/github/Abdullah-NI/NoteBooks/blob/main/21_matrix_Opration_in_python.ipynb\" target=\"_parent\"><img src=\"https://colab.research.google.com/assets/colab-badge.svg\" alt=\"Open In Colab\"/></a>"
      ]
    },
    {
      "cell_type": "markdown",
      "source": [
        "Importing Numpy libraray"
      ],
      "metadata": {
        "id": "bqTwBeBIT7Sh"
      }
    },
    {
      "cell_type": "code",
      "execution_count": 1,
      "metadata": {
        "id": "JWVF0sgmTtQY"
      },
      "outputs": [],
      "source": [
        "import numpy as np"
      ]
    },
    {
      "cell_type": "markdown",
      "source": [
        "**matrix Addition**"
      ],
      "metadata": {
        "id": "yK-aMla8UKnL"
      }
    },
    {
      "cell_type": "markdown",
      "source": [
        "Two matrix can be added if shape is same"
      ],
      "metadata": {
        "id": "uLEDY1L_UOqT"
      }
    },
    {
      "cell_type": "code",
      "source": [
        "a=np.array([[2,3],[4,5]])\n",
        "b=np.array([[6,7],[8,9]])\n",
        "print(a)"
      ],
      "metadata": {
        "colab": {
          "base_uri": "https://localhost:8080/"
        },
        "id": "7b7VE0J0UIf5",
        "outputId": "be6aa43e-52d0-4fe0-cb8f-4001f1aff200"
      },
      "execution_count": 5,
      "outputs": [
        {
          "output_type": "stream",
          "name": "stdout",
          "text": [
            "[[2 3]\n",
            " [4 5]]\n"
          ]
        }
      ]
    },
    {
      "cell_type": "code",
      "source": [
        "print(b)\n"
      ],
      "metadata": {
        "colab": {
          "base_uri": "https://localhost:8080/"
        },
        "id": "d7w_EVn6UjyY",
        "outputId": "9aca950a-cd4c-46e5-b16c-2f1294af1897"
      },
      "execution_count": 6,
      "outputs": [
        {
          "output_type": "stream",
          "name": "stdout",
          "text": [
            "[[6 7]\n",
            " [8 9]]\n"
          ]
        }
      ]
    },
    {
      "cell_type": "code",
      "source": [
        "a.shape"
      ],
      "metadata": {
        "colab": {
          "base_uri": "https://localhost:8080/"
        },
        "id": "nokla4mxU17r",
        "outputId": "9ffb175f-6f19-4b61-96ac-73a335be6b94"
      },
      "execution_count": 8,
      "outputs": [
        {
          "output_type": "execute_result",
          "data": {
            "text/plain": [
              "(2, 2)"
            ]
          },
          "metadata": {},
          "execution_count": 8
        }
      ]
    },
    {
      "cell_type": "code",
      "source": [
        "b.shape"
      ],
      "metadata": {
        "colab": {
          "base_uri": "https://localhost:8080/"
        },
        "id": "ONY8Em2hU4TU",
        "outputId": "762645c2-a5f9-4180-d2ab-5c304f03fcb3"
      },
      "execution_count": 9,
      "outputs": [
        {
          "output_type": "execute_result",
          "data": {
            "text/plain": [
              "(2, 2)"
            ]
          },
          "metadata": {},
          "execution_count": 9
        }
      ]
    },
    {
      "cell_type": "markdown",
      "source": [
        "Adding two matrix"
      ],
      "metadata": {
        "id": "asy8fiR9U_s7"
      }
    },
    {
      "cell_type": "code",
      "source": [
        "sum=a+b\n",
        "print(sum)"
      ],
      "metadata": {
        "colab": {
          "base_uri": "https://localhost:8080/"
        },
        "id": "1awVHvXNU7dw",
        "outputId": "f09dd633-83cf-4847-cdd2-3ee46e97c0b3"
      },
      "execution_count": 10,
      "outputs": [
        {
          "output_type": "stream",
          "name": "stdout",
          "text": [
            "[[ 8 10]\n",
            " [12 14]]\n"
          ]
        }
      ]
    },
    {
      "cell_type": "code",
      "source": [
        "#creat two matrix with random value\n",
        "matrix_1=np.random.randint(10,size=(3,3))   #less then 10\n",
        "matrix_2=np.random.randint(10,20,size=(3,3))   #10 to 20 range"
      ],
      "metadata": {
        "id": "OiitBD6nVE9_"
      },
      "execution_count": 19,
      "outputs": []
    },
    {
      "cell_type": "code",
      "source": [
        "print(matrix_1)"
      ],
      "metadata": {
        "colab": {
          "base_uri": "https://localhost:8080/"
        },
        "id": "QmHyehs2VfTu",
        "outputId": "d7c05850-7f14-4594-d4b1-e4a49ee02d61"
      },
      "execution_count": 32,
      "outputs": [
        {
          "output_type": "stream",
          "name": "stdout",
          "text": [
            "[[7 6 5]\n",
            " [1 1 9]\n",
            " [9 8 4]]\n"
          ]
        }
      ]
    },
    {
      "cell_type": "code",
      "source": [
        "print(matrix_2)"
      ],
      "metadata": {
        "colab": {
          "base_uri": "https://localhost:8080/"
        },
        "id": "xx7HPrywViKp",
        "outputId": "248ac3ed-2002-4c7f-99e1-f182bbd3d8df"
      },
      "execution_count": 33,
      "outputs": [
        {
          "output_type": "stream",
          "name": "stdout",
          "text": [
            "[[16 17 19]\n",
            " [12 15 11]\n",
            " [10 13 12]]\n"
          ]
        }
      ]
    },
    {
      "cell_type": "code",
      "source": [
        "sum=np.add(matrix_1,matrix_2)\n",
        "print(sum)"
      ],
      "metadata": {
        "colab": {
          "base_uri": "https://localhost:8080/"
        },
        "id": "wyNSx614Vkbe",
        "outputId": "b8c4723c-50ff-4297-fd1a-b7e8afdc2166"
      },
      "execution_count": 34,
      "outputs": [
        {
          "output_type": "stream",
          "name": "stdout",
          "text": [
            "[[23 23 24]\n",
            " [13 16 20]\n",
            " [19 21 16]]\n"
          ]
        }
      ]
    },
    {
      "cell_type": "markdown",
      "source": [
        "Matrix subtraction"
      ],
      "metadata": {
        "id": "FwUY7GQQWEi_"
      }
    },
    {
      "cell_type": "code",
      "source": [
        "a=np.array([[2,3],[4,5]])\n",
        "b=np.array([[6,7],[8,9]])"
      ],
      "metadata": {
        "id": "wwUGnOKjVuUB"
      },
      "execution_count": 23,
      "outputs": []
    },
    {
      "cell_type": "code",
      "source": [
        "print(a)"
      ],
      "metadata": {
        "colab": {
          "base_uri": "https://localhost:8080/"
        },
        "id": "pAzlAj43WfcS",
        "outputId": "04d0abdc-8ef6-4c32-a080-d8b66187aa4a"
      },
      "execution_count": 25,
      "outputs": [
        {
          "output_type": "stream",
          "name": "stdout",
          "text": [
            "[[2 3]\n",
            " [4 5]]\n"
          ]
        }
      ]
    },
    {
      "cell_type": "code",
      "source": [
        "print(b)"
      ],
      "metadata": {
        "colab": {
          "base_uri": "https://localhost:8080/"
        },
        "id": "gbuBn3PsWhXY",
        "outputId": "95ec8fb6-1c2a-47ec-a082-244f1f3d42e2"
      },
      "execution_count": 26,
      "outputs": [
        {
          "output_type": "stream",
          "name": "stdout",
          "text": [
            "[[6 7]\n",
            " [8 9]]\n"
          ]
        }
      ]
    },
    {
      "cell_type": "code",
      "source": [
        "diff=a-b\n",
        "print(diff)"
      ],
      "metadata": {
        "colab": {
          "base_uri": "https://localhost:8080/"
        },
        "id": "qzsbbuG0WVy8",
        "outputId": "871ca778-a040-4c3e-841b-179a28ef05fc"
      },
      "execution_count": 27,
      "outputs": [
        {
          "output_type": "stream",
          "name": "stdout",
          "text": [
            "[[-4 -4]\n",
            " [-4 -4]]\n"
          ]
        }
      ]
    },
    {
      "cell_type": "code",
      "source": [
        "#creat two matrix with random value\n",
        "matrix_1=np.random.randint(10,size=(3,3))   #less then 10\n",
        "matrix_2=np.random.randint(10,20,size=(3,3))   #10 to 20 range"
      ],
      "metadata": {
        "id": "H78O63wTWYm1"
      },
      "execution_count": 28,
      "outputs": []
    },
    {
      "cell_type": "code",
      "source": [
        "print(matrix_1)"
      ],
      "metadata": {
        "colab": {
          "base_uri": "https://localhost:8080/"
        },
        "id": "vh6yaAC0WtVx",
        "outputId": "f7cc75cf-c9b5-4ea4-f7c9-f29abcf2db79"
      },
      "execution_count": 29,
      "outputs": [
        {
          "output_type": "stream",
          "name": "stdout",
          "text": [
            "[[7 6 5]\n",
            " [1 1 9]\n",
            " [9 8 4]]\n"
          ]
        }
      ]
    },
    {
      "cell_type": "code",
      "source": [
        "print(matrix_2)"
      ],
      "metadata": {
        "colab": {
          "base_uri": "https://localhost:8080/"
        },
        "id": "SS-ivr4LWvmB",
        "outputId": "feb7e777-1252-401b-cc4a-ede905cb531a"
      },
      "execution_count": 30,
      "outputs": [
        {
          "output_type": "stream",
          "name": "stdout",
          "text": [
            "[[16 17 19]\n",
            " [12 15 11]\n",
            " [10 13 12]]\n"
          ]
        }
      ]
    },
    {
      "cell_type": "code",
      "source": [
        "diff=np.subtract(matrix_1,matrix_2)\n",
        "print(diff)"
      ],
      "metadata": {
        "colab": {
          "base_uri": "https://localhost:8080/"
        },
        "id": "8QuQTIWBW1hG",
        "outputId": "b1bd42f1-481f-4213-aefb-fdf15f388476"
      },
      "execution_count": 35,
      "outputs": [
        {
          "output_type": "stream",
          "name": "stdout",
          "text": [
            "[[ -9 -11 -14]\n",
            " [-11 -14  -2]\n",
            " [ -1  -5  -8]]\n"
          ]
        }
      ]
    },
    {
      "cell_type": "markdown",
      "source": [
        "Multiply a matrix by scaler"
      ],
      "metadata": {
        "id": "6oShFs9gXWB3"
      }
    },
    {
      "cell_type": "code",
      "source": [
        "x=5\n",
        "y=np.random.randint(10,size=(4,4))\n",
        "print(y)"
      ],
      "metadata": {
        "colab": {
          "base_uri": "https://localhost:8080/"
        },
        "id": "Et_nB0hOXQC6",
        "outputId": "caca810d-997f-41ad-b995-2417b610d7fe"
      },
      "execution_count": 36,
      "outputs": [
        {
          "output_type": "stream",
          "name": "stdout",
          "text": [
            "[[0 0 6 3]\n",
            " [0 4 6 6]\n",
            " [3 1 0 4]\n",
            " [3 7 8 9]]\n"
          ]
        }
      ]
    },
    {
      "cell_type": "code",
      "source": [
        "prod=x*y"
      ],
      "metadata": {
        "id": "ieUji5w3Xnhu"
      },
      "execution_count": 37,
      "outputs": []
    },
    {
      "cell_type": "code",
      "source": [
        "print(prod)"
      ],
      "metadata": {
        "colab": {
          "base_uri": "https://localhost:8080/"
        },
        "id": "CTHC3vX8XqVC",
        "outputId": "d6d7cc8e-b505-4b1c-803c-1ebd6821fd60"
      },
      "execution_count": 38,
      "outputs": [
        {
          "output_type": "stream",
          "name": "stdout",
          "text": [
            "[[ 0  0 30 15]\n",
            " [ 0 20 30 30]\n",
            " [15  5  0 20]\n",
            " [15 35 40 45]]\n"
          ]
        }
      ]
    },
    {
      "cell_type": "markdown",
      "source": [
        "Multipliying two matrix"
      ],
      "metadata": {
        "id": "xvqfKevTXzq4"
      }
    },
    {
      "cell_type": "code",
      "source": [
        "matrix_3=np.random.randint(5,size=(3,3))   #less then 10\n",
        "matrix_4=np.random.randint(5,size=(3,4))"
      ],
      "metadata": {
        "id": "onP1WDhwXs8E"
      },
      "execution_count": 49,
      "outputs": []
    },
    {
      "cell_type": "code",
      "source": [
        "print(matrix_3)"
      ],
      "metadata": {
        "colab": {
          "base_uri": "https://localhost:8080/"
        },
        "id": "zm5bRiS-YRNY",
        "outputId": "f09683e4-cac6-49e1-fdac-16b241119bf9"
      },
      "execution_count": 50,
      "outputs": [
        {
          "output_type": "stream",
          "name": "stdout",
          "text": [
            "[[1 0 1]\n",
            " [2 3 4]\n",
            " [4 2 4]]\n"
          ]
        }
      ]
    },
    {
      "cell_type": "code",
      "source": [
        "print(matrix_4)"
      ],
      "metadata": {
        "colab": {
          "base_uri": "https://localhost:8080/"
        },
        "id": "TLWXpUYlYWvh",
        "outputId": "8c513335-8e09-4d21-c35b-a7d291e540cf"
      },
      "execution_count": 51,
      "outputs": [
        {
          "output_type": "stream",
          "name": "stdout",
          "text": [
            "[[2 4 1 3]\n",
            " [1 3 3 0]\n",
            " [2 1 4 2]]\n"
          ]
        }
      ]
    },
    {
      "cell_type": "code",
      "source": [
        "prod=np.dot(matrix_3,matrix_4)\n",
        "print(prod)"
      ],
      "metadata": {
        "colab": {
          "base_uri": "https://localhost:8080/"
        },
        "id": "_9_D7Xo3YYqO",
        "outputId": "206ee17c-722f-4d37-b4da-bbbdb613f31b"
      },
      "execution_count": 52,
      "outputs": [
        {
          "output_type": "stream",
          "name": "stdout",
          "text": [
            "[[ 4  5  5  5]\n",
            " [15 21 27 14]\n",
            " [18 26 26 20]]\n"
          ]
        }
      ]
    },
    {
      "cell_type": "code",
      "source": [
        "prod.shape"
      ],
      "metadata": {
        "colab": {
          "base_uri": "https://localhost:8080/"
        },
        "id": "6YZtFrtGYfO6",
        "outputId": "2a59f29b-3f1c-4534-f84f-1990d29727e2"
      },
      "execution_count": 53,
      "outputs": [
        {
          "output_type": "execute_result",
          "data": {
            "text/plain": [
              "(3, 4)"
            ]
          },
          "metadata": {},
          "execution_count": 53
        }
      ]
    },
    {
      "cell_type": "markdown",
      "source": [
        "<h1>**Element wise multiplication**</h1>"
      ],
      "metadata": {
        "id": "JtOJVXaVZC3a"
      }
    },
    {
      "cell_type": "code",
      "source": [
        "matrix_3=np.random.randint(5,size=(3,3))   #less then 10\n",
        "matrix_4=np.random.randint(5,size=(3,3))"
      ],
      "metadata": {
        "id": "x4BWC2P4YidX"
      },
      "execution_count": 58,
      "outputs": []
    },
    {
      "cell_type": "code",
      "source": [
        "print(matrix_3)"
      ],
      "metadata": {
        "colab": {
          "base_uri": "https://localhost:8080/"
        },
        "id": "G5n4IR5qZMiP",
        "outputId": "475825ff-d313-44d4-b24a-86a845f4896a"
      },
      "execution_count": 59,
      "outputs": [
        {
          "output_type": "stream",
          "name": "stdout",
          "text": [
            "[[4 1 4]\n",
            " [1 0 0]\n",
            " [4 3 2]]\n"
          ]
        }
      ]
    },
    {
      "cell_type": "code",
      "source": [
        "print(matrix_4)"
      ],
      "metadata": {
        "colab": {
          "base_uri": "https://localhost:8080/"
        },
        "id": "63z4bGdIZOMr",
        "outputId": "e58ecc93-f760-40b6-a975-49d80ef82891"
      },
      "execution_count": 60,
      "outputs": [
        {
          "output_type": "stream",
          "name": "stdout",
          "text": [
            "[[3 1 3]\n",
            " [1 2 0]\n",
            " [4 0 4]]\n"
          ]
        }
      ]
    },
    {
      "cell_type": "code",
      "source": [
        "prod=np.multiply(matrix_3,matrix_4)\n",
        "print(prod)"
      ],
      "metadata": {
        "colab": {
          "base_uri": "https://localhost:8080/"
        },
        "id": "qgAhaHDqZPLd",
        "outputId": "acae8fb3-088c-4835-8235-5c1c8c000354"
      },
      "execution_count": 61,
      "outputs": [
        {
          "output_type": "stream",
          "name": "stdout",
          "text": [
            "[[12  1 12]\n",
            " [ 1  0  0]\n",
            " [16  0  8]]\n"
          ]
        }
      ]
    },
    {
      "cell_type": "code",
      "source": [
        "# ya ese kar sakte hai\n",
        "prod=matrix_3*matrix_4\n",
        "print(prod)"
      ],
      "metadata": {
        "colab": {
          "base_uri": "https://localhost:8080/"
        },
        "id": "gqaMbMkvZSVt",
        "outputId": "d3033abf-555e-4fa6-a9e5-771207caa53c"
      },
      "execution_count": 62,
      "outputs": [
        {
          "output_type": "stream",
          "name": "stdout",
          "text": [
            "[[12  1 12]\n",
            " [ 1  0  0]\n",
            " [16  0  8]]\n"
          ]
        }
      ]
    },
    {
      "cell_type": "code",
      "source": [],
      "metadata": {
        "id": "0GENrRcTZcxq"
      },
      "execution_count": null,
      "outputs": []
    }
  ]
}