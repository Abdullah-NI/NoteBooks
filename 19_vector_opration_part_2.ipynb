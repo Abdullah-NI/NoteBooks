{
  "nbformat": 4,
  "nbformat_minor": 0,
  "metadata": {
    "colab": {
      "provenance": [],
      "authorship_tag": "ABX9TyMziP3XzwVlvnEcldooPudD",
      "include_colab_link": true
    },
    "kernelspec": {
      "name": "python3",
      "display_name": "Python 3"
    },
    "language_info": {
      "name": "python"
    }
  },
  "cells": [
    {
      "cell_type": "markdown",
      "metadata": {
        "id": "view-in-github",
        "colab_type": "text"
      },
      "source": [
        "<a href=\"https://colab.research.google.com/github/Abdullah-NI/NoteBooks/blob/main/19_vector_opration_part_2.ipynb\" target=\"_parent\"><img src=\"https://colab.research.google.com/assets/colab-badge.svg\" alt=\"Open In Colab\"/></a>"
      ]
    },
    {
      "cell_type": "code",
      "execution_count": 1,
      "metadata": {
        "id": "5WaW486nrz_h"
      },
      "outputs": [],
      "source": [
        "import numpy as np"
      ]
    },
    {
      "cell_type": "markdown",
      "source": [
        "Dot product of 2 vector"
      ],
      "metadata": {
        "id": "DQatthzRsAAc"
      }
    },
    {
      "cell_type": "code",
      "source": [
        "a=np.array([2,3])\n",
        "b=np.array([4,4])\n",
        "a_dot_b=np.dot(a,b)\n",
        "print(a_dot_b)"
      ],
      "metadata": {
        "colab": {
          "base_uri": "https://localhost:8080/"
        },
        "id": "uMmRRQdcr-3d",
        "outputId": "e1d6c9ba-ddf4-452f-e38f-4e34453059be"
      },
      "execution_count": 2,
      "outputs": [
        {
          "output_type": "stream",
          "name": "stdout",
          "text": [
            "20\n"
          ]
        }
      ]
    },
    {
      "cell_type": "code",
      "source": [
        "c=np.array([40,20,35])\n",
        "d=np.array([23,45,67])\n",
        "c_dot_d=np.dot(c,d)\n",
        "print(c_dot_d)"
      ],
      "metadata": {
        "colab": {
          "base_uri": "https://localhost:8080/"
        },
        "id": "ddviRw4fsU6N",
        "outputId": "c2c10fe6-7bc5-44fe-d111-a699101110b2"
      },
      "execution_count": 3,
      "outputs": [
        {
          "output_type": "stream",
          "name": "stdout",
          "text": [
            "4165\n"
          ]
        }
      ]
    },
    {
      "cell_type": "markdown",
      "source": [
        "Cross product of 2 vector"
      ],
      "metadata": {
        "id": "zp7kqOdHsrRB"
      }
    },
    {
      "cell_type": "code",
      "source": [
        "a=np.array([2,3])\n",
        "b=np.array([4,4])\n",
        "a_cross_b=np.cross(a,b)\n",
        "print(a_cross_b)"
      ],
      "metadata": {
        "colab": {
          "base_uri": "https://localhost:8080/"
        },
        "id": "ZlUIRveZso8G",
        "outputId": "f72f4ebe-382c-4694-e60c-e9661a4a2c79"
      },
      "execution_count": 4,
      "outputs": [
        {
          "output_type": "stream",
          "name": "stdout",
          "text": [
            "-4\n"
          ]
        }
      ]
    },
    {
      "cell_type": "code",
      "source": [
        "c=np.array([10,20,30])\n",
        "d=np.array([30,20,13])\n",
        "c_cross_d=np.cross(c,d)\n",
        "print(c_cross_d)"
      ],
      "metadata": {
        "colab": {
          "base_uri": "https://localhost:8080/"
        },
        "id": "KIGymRn4s8jb",
        "outputId": "b65cf2df-500d-4f04-c779-da73fbc8984c"
      },
      "execution_count": 5,
      "outputs": [
        {
          "output_type": "stream",
          "name": "stdout",
          "text": [
            "[-340  770 -400]\n"
          ]
        }
      ]
    },
    {
      "cell_type": "markdown",
      "source": [
        "projection of 'a' vector on 'v' vector"
      ],
      "metadata": {
        "id": "qGKNDmrqtfyI"
      }
    },
    {
      "cell_type": "markdown",
      "source": [
        "![Screenshot 2025-01-06 091630.png](data:image/png;base64,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)"
      ],
      "metadata": {
        "id": "GSQscTC5uRR6"
      }
    },
    {
      "cell_type": "code",
      "source": [
        "a=np.array([2,5])\n",
        "v=np.array([8,-6])\n",
        "\n",
        "# magnitude of v vector\n",
        "magnitude_of_v=np.sqrt(sum(v**2))   # ye sum fun every value ka sum kareg array ka but yaha square bhi hai islye square karke sum karega\n",
        "\n",
        "projection_of_a_on_v=(np.dot(a,v)/magnitude_of_v**2)*v\n",
        "\n",
        "print(\"projection of a on v \",projection_of_a_on_v)"
      ],
      "metadata": {
        "colab": {
          "base_uri": "https://localhost:8080/"
        },
        "id": "ckPOmufltOJh",
        "outputId": "c0b8f52c-9a6e-4148-eea7-562d4a09772e"
      },
      "execution_count": 6,
      "outputs": [
        {
          "output_type": "stream",
          "name": "stdout",
          "text": [
            "projection of a on v  [-1.12  0.84]\n"
          ]
        }
      ]
    },
    {
      "cell_type": "code",
      "source": [
        "a=np.array([20,40,32])\n",
        "v=np.array([-34,56,43])\n",
        "\n",
        "# magnitude of v vector\n",
        "magnitude_of_v=np.sqrt(sum(v**2))   # ye sum fun every value ka sum kareg array ka but yaha square bhi hai islye square karke sum karega\n",
        "\n",
        "projection_of_a_on_v=(np.dot(a,v)/magnitude_of_v**2)*v\n",
        "\n",
        "print(\"projection of a on v \",projection_of_a_on_v)"
      ],
      "metadata": {
        "colab": {
          "base_uri": "https://localhost:8080/"
        },
        "id": "J8439sA9vx_8",
        "outputId": "9f4da872-9b8c-47db-b397-10db70f95195"
      },
      "execution_count": 7,
      "outputs": [
        {
          "output_type": "stream",
          "name": "stdout",
          "text": [
            "projection of a on v  [-16.25533301  26.77348966  20.55821527]\n"
          ]
        }
      ]
    },
    {
      "cell_type": "code",
      "source": [],
      "metadata": {
        "id": "DwdaX7CcxiF2"
      },
      "execution_count": null,
      "outputs": []
    }
  ]
}