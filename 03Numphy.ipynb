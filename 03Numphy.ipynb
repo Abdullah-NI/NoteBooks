{
  "nbformat": 4,
  "nbformat_minor": 0,
  "metadata": {
    "colab": {
      "provenance": [],
      "authorship_tag": "ABX9TyNiqh0U/V1n18k/eM+gH5sL",
      "include_colab_link": true
    },
    "kernelspec": {
      "name": "python3",
      "display_name": "Python 3"
    },
    "language_info": {
      "name": "python"
    }
  },
  "cells": [
    {
      "cell_type": "markdown",
      "metadata": {
        "id": "view-in-github",
        "colab_type": "text"
      },
      "source": [
        "<a href=\"https://colab.research.google.com/github/Abdullah-NI/NoteBooks/blob/main/03Numphy.ipynb\" target=\"_parent\"><img src=\"https://colab.research.google.com/assets/colab-badge.svg\" alt=\"Open In Colab\"/></a>"
      ]
    },
    {
      "cell_type": "markdown",
      "source": [
        "Numphy=> Numerical python"
      ],
      "metadata": {
        "id": "JPVaO5WkOA3U"
      }
    },
    {
      "cell_type": "code",
      "source": [
        "import numpy as np"
      ],
      "metadata": {
        "id": "Oh4-X_ROOFli"
      },
      "execution_count": 2,
      "outputs": []
    },
    {
      "cell_type": "markdown",
      "source": [
        "**List vs Numpy -time taken**"
      ],
      "metadata": {
        "id": "3z032hdrPk-7"
      }
    },
    {
      "cell_type": "code",
      "source": [
        "from time import process_time"
      ],
      "metadata": {
        "id": "EC5_QCuJOmFj"
      },
      "execution_count": 3,
      "outputs": []
    },
    {
      "cell_type": "markdown",
      "source": [
        "This line of code imports the process_time function from the time module in Python.\n",
        "\n",
        "**Purpose of process_time:**\n",
        "\n",
        "The process_time function is used to measure the CPU time used by the current process. This is the time the actual CPU spends executing your code (including the time used by any child processes).\n",
        "\n",
        "**How it's used:**\n",
        "\n",
        "\n",
        "start_time = process_time()  # Capture start time\n",
        "\n",
        "... (Your code) ...\n",
        "\n",
        "end_time =process_time()    # Capture end time\n",
        "\n",
        "elapsed_time = end_time - start_time  #Calculate the CPU time\n",
        "\n",
        "print(\"Elapsed CPU time:\", elapsed_time)\n"
      ],
      "metadata": {
        "id": "KINN7FUjl-Ql"
      }
    },
    {
      "cell_type": "markdown",
      "source": [
        "Time taken by list"
      ],
      "metadata": {
        "id": "4RsPqvSzP4hb"
      }
    },
    {
      "cell_type": "code",
      "source": [
        "python_list=[i for i in range(10000)]\n",
        "start_time=process_time()\n",
        "python_list=[i+5 for i in python_list]\n",
        "end_time=process_time()\n",
        "print(end_time-start_time)"
      ],
      "metadata": {
        "colab": {
          "base_uri": "https://localhost:8080/"
        },
        "id": "aHJennAjPyUz",
        "outputId": "67b4a918-38f2-461a-f301-f273cfcd3317"
      },
      "execution_count": 4,
      "outputs": [
        {
          "output_type": "stream",
          "name": "stdout",
          "text": [
            "0.0020036089999999618\n"
          ]
        }
      ]
    },
    {
      "cell_type": "markdown",
      "source": [
        "Time taken by numpy array"
      ],
      "metadata": {
        "id": "kZp2SS1FRsWr"
      }
    },
    {
      "cell_type": "code",
      "source": [
        "np_array=np.array([i for i in range(10000)])\n",
        "start_time=process_time()\n",
        "np_array+=5 # adding 5 in evey value of aray\n",
        "end_time=process_time()\n",
        "print(end_time-start_time)\n"
      ],
      "metadata": {
        "colab": {
          "base_uri": "https://localhost:8080/"
        },
        "id": "8mHugwjiQX_z",
        "outputId": "11b174e8-eaed-4c53-edc1-56c7844ef0f8"
      },
      "execution_count": 5,
      "outputs": [
        {
          "output_type": "stream",
          "name": "stdout",
          "text": [
            "0.0030793099999999463\n"
          ]
        }
      ]
    },
    {
      "cell_type": "markdown",
      "source": [
        "Numpy array"
      ],
      "metadata": {
        "id": "x9BLdd9pR5fs"
      }
    },
    {
      "cell_type": "code",
      "source": [
        "#list\n",
        "list1=[1,2,3,4]\n",
        "print(list1)\n",
        "type(list1)"
      ],
      "metadata": {
        "colab": {
          "base_uri": "https://localhost:8080/"
        },
        "id": "W7WwNtVuRYzk",
        "outputId": "cb906d68-1d1a-4035-ac15-279476e014ae"
      },
      "execution_count": 6,
      "outputs": [
        {
          "output_type": "stream",
          "name": "stdout",
          "text": [
            "[1, 2, 3, 4]\n"
          ]
        },
        {
          "output_type": "execute_result",
          "data": {
            "text/plain": [
              "list"
            ]
          },
          "metadata": {},
          "execution_count": 6
        }
      ]
    },
    {
      "cell_type": "code",
      "source": [
        "np_array=np.array([1,2,3,4,5])\n",
        "print(np_array)\n",
        "type(np_array)"
      ],
      "metadata": {
        "colab": {
          "base_uri": "https://localhost:8080/"
        },
        "id": "4lKF8n6ASDY0",
        "outputId": "ead351c5-2575-4365-c0ab-930cef2c909f"
      },
      "execution_count": 7,
      "outputs": [
        {
          "output_type": "stream",
          "name": "stdout",
          "text": [
            "[1 2 3 4 5]\n"
          ]
        },
        {
          "output_type": "execute_result",
          "data": {
            "text/plain": [
              "numpy.ndarray"
            ]
          },
          "metadata": {},
          "execution_count": 7
        }
      ]
    },
    {
      "cell_type": "code",
      "source": [
        "#creating 1 dim array\n",
        "a=np.array([1,2,3,4,5])\n",
        "print(a)"
      ],
      "metadata": {
        "colab": {
          "base_uri": "https://localhost:8080/"
        },
        "id": "44bnlAPwShwj",
        "outputId": "3a12b94c-87e3-4f36-ed97-a3035595dafd"
      },
      "execution_count": 8,
      "outputs": [
        {
          "output_type": "stream",
          "name": "stdout",
          "text": [
            "[1 2 3 4 5]\n"
          ]
        }
      ]
    },
    {
      "cell_type": "code",
      "source": [
        "a.shape"
      ],
      "metadata": {
        "colab": {
          "base_uri": "https://localhost:8080/"
        },
        "id": "z-gAgfAwTGVD",
        "outputId": "58de2290-8af4-46d9-d3f2-2e0cbcd91b0d"
      },
      "execution_count": 9,
      "outputs": [
        {
          "output_type": "execute_result",
          "data": {
            "text/plain": [
              "(5,)"
            ]
          },
          "metadata": {},
          "execution_count": 9
        }
      ]
    },
    {
      "cell_type": "code",
      "source": [
        "b=np.array([(1,2,3,4),(5,6,7,8)])\n",
        "print(b)"
      ],
      "metadata": {
        "colab": {
          "base_uri": "https://localhost:8080/"
        },
        "id": "KvQGiPGQTtnT",
        "outputId": "5f806413-86b5-4a90-e3d9-ed007df6e905"
      },
      "execution_count": 10,
      "outputs": [
        {
          "output_type": "stream",
          "name": "stdout",
          "text": [
            "[[1 2 3 4]\n",
            " [5 6 7 8]]\n"
          ]
        }
      ]
    },
    {
      "cell_type": "code",
      "source": [
        "b.shape"
      ],
      "metadata": {
        "id": "A8kYucgWUAiT",
        "colab": {
          "base_uri": "https://localhost:8080/"
        },
        "outputId": "5b14a23c-7c2e-4ad7-9951-b883837b086c"
      },
      "execution_count": 11,
      "outputs": [
        {
          "output_type": "execute_result",
          "data": {
            "text/plain": [
              "(2, 4)"
            ]
          },
          "metadata": {},
          "execution_count": 11
        }
      ]
    },
    {
      "cell_type": "code",
      "source": [
        "c=np.array([(1,2,3,4),(5,6,7,8)],dtype=float)  #data type\n",
        "print(c)"
      ],
      "metadata": {
        "colab": {
          "base_uri": "https://localhost:8080/"
        },
        "id": "F20rXtRHZR0R",
        "outputId": "95727d07-9e41-43f4-a906-70f652244927"
      },
      "execution_count": 12,
      "outputs": [
        {
          "output_type": "stream",
          "name": "stdout",
          "text": [
            "[[1. 2. 3. 4.]\n",
            " [5. 6. 7. 8.]]\n"
          ]
        }
      ]
    },
    {
      "cell_type": "markdown",
      "source": [
        "Initial placeholer in numpy array=>  means arry ko kis value se initialize karna hi"
      ],
      "metadata": {
        "id": "ujLq_I01Z4L3"
      }
    },
    {
      "cell_type": "code",
      "source": [
        "#creating a numpy array of zeros\n",
        "x=np.zeros((4,5))   #no of rows 4, no of column 5\n",
        "print(x)"
      ],
      "metadata": {
        "colab": {
          "base_uri": "https://localhost:8080/"
        },
        "id": "bPE-sZMTZp4v",
        "outputId": "e42c002a-fa0f-495d-b4e3-9ea0562b96f3"
      },
      "execution_count": 13,
      "outputs": [
        {
          "output_type": "stream",
          "name": "stdout",
          "text": [
            "[[0. 0. 0. 0. 0.]\n",
            " [0. 0. 0. 0. 0.]\n",
            " [0. 0. 0. 0. 0.]\n",
            " [0. 0. 0. 0. 0.]]\n"
          ]
        }
      ]
    },
    {
      "cell_type": "code",
      "source": [
        "#creating num array of ones\n",
        "y=np.ones((3,3))\n",
        "print(y)"
      ],
      "metadata": {
        "colab": {
          "base_uri": "https://localhost:8080/"
        },
        "id": "DHAngLIPaSsA",
        "outputId": "c6f5af83-bc33-463a-b300-b3a33142f198"
      },
      "execution_count": 14,
      "outputs": [
        {
          "output_type": "stream",
          "name": "stdout",
          "text": [
            "[[1. 1. 1.]\n",
            " [1. 1. 1.]\n",
            " [1. 1. 1.]]\n"
          ]
        }
      ]
    },
    {
      "cell_type": "code",
      "source": [
        "# array of paricular value\n",
        "z=np.full((4,5),500)\n",
        "print(z)"
      ],
      "metadata": {
        "colab": {
          "base_uri": "https://localhost:8080/"
        },
        "id": "fLX4BXs-a9CQ",
        "outputId": "1a8d68c6-a16f-4051-9d31-a51b57d9f684"
      },
      "execution_count": 15,
      "outputs": [
        {
          "output_type": "stream",
          "name": "stdout",
          "text": [
            "[[500 500 500 500 500]\n",
            " [500 500 500 500 500]\n",
            " [500 500 500 500 500]\n",
            " [500 500 500 500 500]]\n"
          ]
        }
      ]
    },
    {
      "cell_type": "code",
      "source": [
        "# create an identitiy matrix\n",
        "a=np.eye(7)  # yah only oder of matrix diya bcz identy marix is square matrix\n",
        "print(a)"
      ],
      "metadata": {
        "colab": {
          "base_uri": "https://localhost:8080/"
        },
        "id": "-_srLcBfbUwf",
        "outputId": "c65a8033-ee1a-4b38-e9be-17c55d937c11"
      },
      "execution_count": 16,
      "outputs": [
        {
          "output_type": "stream",
          "name": "stdout",
          "text": [
            "[[1. 0. 0. 0. 0. 0. 0.]\n",
            " [0. 1. 0. 0. 0. 0. 0.]\n",
            " [0. 0. 1. 0. 0. 0. 0.]\n",
            " [0. 0. 0. 1. 0. 0. 0.]\n",
            " [0. 0. 0. 0. 1. 0. 0.]\n",
            " [0. 0. 0. 0. 0. 1. 0.]\n",
            " [0. 0. 0. 0. 0. 0. 1.]]\n"
          ]
        }
      ]
    },
    {
      "cell_type": "code",
      "source": [
        "#creating a numpy array with random value\n",
        "b=np.random.random((3,4))       #random value comes between 0 to 1\n",
        "print(b)"
      ],
      "metadata": {
        "colab": {
          "base_uri": "https://localhost:8080/"
        },
        "id": "1ipwuQzybmTu",
        "outputId": "55afb061-4e37-40e7-a1dc-a67238927d2f"
      },
      "execution_count": 17,
      "outputs": [
        {
          "output_type": "stream",
          "name": "stdout",
          "text": [
            "[[0.16343044 0.49098779 0.62307692 0.7172333 ]\n",
            " [0.1989936  0.98520058 0.90526138 0.02576341]\n",
            " [0.54828132 0.22561635 0.10873205 0.52702269]]\n"
          ]
        }
      ]
    },
    {
      "cell_type": "code",
      "source": [
        "#random integer values array with in a specific range\n",
        "c=np.random.randint(10,100,(3,4))   #integer range between 10 to 100 ,,,, no of rows=3 and col=4\n",
        "print(c)"
      ],
      "metadata": {
        "colab": {
          "base_uri": "https://localhost:8080/"
        },
        "id": "BFhWiwN1ceRv",
        "outputId": "b53f2afe-170d-42e9-b11a-33ecea1cd2b8"
      },
      "execution_count": 18,
      "outputs": [
        {
          "output_type": "stream",
          "name": "stdout",
          "text": [
            "[[16 21 21 43]\n",
            " [33 39 31 72]\n",
            " [88 77 99 25]]\n"
          ]
        }
      ]
    },
    {
      "cell_type": "code",
      "source": [
        "#array of evenly space value--> specifiyn no of value required\n",
        "d=np.linspace(10,30,5)   #here 5 is no of value required\n",
        "print(d)"
      ],
      "metadata": {
        "colab": {
          "base_uri": "https://localhost:8080/"
        },
        "id": "QukoVPGZdDR_",
        "outputId": "91b70012-1cbc-4de9-a0f5-6d020ca014eb"
      },
      "execution_count": 19,
      "outputs": [
        {
          "output_type": "stream",
          "name": "stdout",
          "text": [
            "[10. 15. 20. 25. 30.]\n"
          ]
        }
      ]
    },
    {
      "cell_type": "code",
      "source": [
        "#array of evenly spacd vaulue---. specifying the step\n",
        "e=np.arange(10,30,2)   # here 2 is step\n",
        "print(e)"
      ],
      "metadata": {
        "colab": {
          "base_uri": "https://localhost:8080/"
        },
        "id": "5wVE9aRidyYe",
        "outputId": "614692d1-5a9a-4b7a-d846-db871ffb3894"
      },
      "execution_count": 20,
      "outputs": [
        {
          "output_type": "stream",
          "name": "stdout",
          "text": [
            "[10 12 14 16 18 20 22 24 26 28]\n"
          ]
        }
      ]
    },
    {
      "cell_type": "code",
      "source": [
        "#converting a list to numpy array\n",
        "list2=[10,20,30,40,50]\n",
        "print(\"it is list: \",list2)\n",
        "np_array=np.asarray(list2)\n",
        "print(\"it is array: \",np_array)\n",
        "type(np_array)"
      ],
      "metadata": {
        "colab": {
          "base_uri": "https://localhost:8080/"
        },
        "id": "MtR-qoggfSe-",
        "outputId": "0c80b7e4-9d4f-44b7-857c-fc0bec37e606"
      },
      "execution_count": 21,
      "outputs": [
        {
          "output_type": "stream",
          "name": "stdout",
          "text": [
            "it is list:  [10, 20, 30, 40, 50]\n",
            "it is array:  [10 20 30 40 50]\n"
          ]
        },
        {
          "output_type": "execute_result",
          "data": {
            "text/plain": [
              "numpy.ndarray"
            ]
          },
          "metadata": {},
          "execution_count": 21
        }
      ]
    },
    {
      "cell_type": "code",
      "source": [
        "# is trah bhi kar sakte hai convert\n",
        "list2=[10,20,30,40,50]\n",
        "np_arr=np.array(list2)\n",
        "print(\"it is array: \",np_arr)\n",
        "type(np_arr)"
      ],
      "metadata": {
        "colab": {
          "base_uri": "https://localhost:8080/"
        },
        "id": "BC5LQEU7o449",
        "outputId": "4420b183-5856-41e0-ad7e-24f3410974d2"
      },
      "execution_count": 38,
      "outputs": [
        {
          "output_type": "stream",
          "name": "stdout",
          "text": [
            "it is array:  [10 20 30 40 50]\n"
          ]
        },
        {
          "output_type": "execute_result",
          "data": {
            "text/plain": [
              "numpy.ndarray"
            ]
          },
          "metadata": {},
          "execution_count": 38
        }
      ]
    },
    {
      "cell_type": "code",
      "source": [
        "tup2=(10,20,30,40,50)\n",
        "print(\"it is tuple: \",tup2)\n",
        "np_array=np.asarray(tup2)\n",
        "print(\"it is array: \",np_array)\n",
        "type(np_array)"
      ],
      "metadata": {
        "colab": {
          "base_uri": "https://localhost:8080/"
        },
        "id": "HC8ut7eagKT9",
        "outputId": "f24f3ded-fdea-492d-b0c8-8e98a4d9ba03"
      },
      "execution_count": 40,
      "outputs": [
        {
          "output_type": "stream",
          "name": "stdout",
          "text": [
            "it is tuple:  (10, 20, 30, 40, 50)\n",
            "it is array:  [10 20 30 40 50]\n"
          ]
        },
        {
          "output_type": "execute_result",
          "data": {
            "text/plain": [
              "numpy.ndarray"
            ]
          },
          "metadata": {},
          "execution_count": 40
        }
      ]
    },
    {
      "cell_type": "markdown",
      "source": [
        "**Analysing a numpy array**\n",
        "\n",
        "\n"
      ],
      "metadata": {
        "id": "K_6t4Aj9gysl"
      }
    },
    {
      "cell_type": "code",
      "source": [
        "c=np.random.randint(10,90,(5,5))\n",
        "print(c)"
      ],
      "metadata": {
        "colab": {
          "base_uri": "https://localhost:8080/"
        },
        "id": "L9sO_4RDgqgd",
        "outputId": "84f57a72-72f4-4aae-eecb-dfad6ea16ece"
      },
      "execution_count": 23,
      "outputs": [
        {
          "output_type": "stream",
          "name": "stdout",
          "text": [
            "[[11 15 70 51 86]\n",
            " [33 74 86 56 10]\n",
            " [71 79 56 78 55]\n",
            " [40 20 73 22 15]\n",
            " [69 35 72 52 54]]\n"
          ]
        }
      ]
    },
    {
      "cell_type": "code",
      "source": [
        "#array dimension\n",
        "print(c.shape)"
      ],
      "metadata": {
        "colab": {
          "base_uri": "https://localhost:8080/"
        },
        "id": "5CYcYQ1DiJhd",
        "outputId": "a21512b5-4c88-4289-e48c-cba08c496f11"
      },
      "execution_count": 24,
      "outputs": [
        {
          "output_type": "stream",
          "name": "stdout",
          "text": [
            "(5, 5)\n"
          ]
        }
      ]
    },
    {
      "cell_type": "code",
      "source": [
        "#number of dimention\n",
        "print(c.ndim)"
      ],
      "metadata": {
        "colab": {
          "base_uri": "https://localhost:8080/"
        },
        "id": "HbHNxps3ika8",
        "outputId": "467d1d51-afd8-4da7-cc74-5aa923788a96"
      },
      "execution_count": 25,
      "outputs": [
        {
          "output_type": "stream",
          "name": "stdout",
          "text": [
            "2\n"
          ]
        }
      ]
    },
    {
      "cell_type": "code",
      "source": [
        "#number of element in aarry\n",
        "print(c.size)"
      ],
      "metadata": {
        "colab": {
          "base_uri": "https://localhost:8080/"
        },
        "id": "Ka70XEN3iq3s",
        "outputId": "2802f514-b11c-4e21-e55a-5ae126d6674e"
      },
      "execution_count": 26,
      "outputs": [
        {
          "output_type": "stream",
          "name": "stdout",
          "text": [
            "25\n"
          ]
        }
      ]
    },
    {
      "cell_type": "code",
      "source": [
        "#checking data type of values in array\n",
        "print(c.dtype)"
      ],
      "metadata": {
        "colab": {
          "base_uri": "https://localhost:8080/"
        },
        "id": "Hs29Q5SDjAer",
        "outputId": "1c5b9fd6-ef8c-45a6-d4f8-4d3a7d8134a6"
      },
      "execution_count": 27,
      "outputs": [
        {
          "output_type": "stream",
          "name": "stdout",
          "text": [
            "int64\n"
          ]
        }
      ]
    },
    {
      "cell_type": "markdown",
      "source": [
        "**Mathmatical opration on numpy array**"
      ],
      "metadata": {
        "id": "yPnEGDTCja0k"
      }
    },
    {
      "cell_type": "code",
      "source": [
        "list1=[1,2,3,4,5]\n",
        "list2=[6,7,8,9,10]\n",
        "print(list1+list2) #concatinating list"
      ],
      "metadata": {
        "colab": {
          "base_uri": "https://localhost:8080/"
        },
        "id": "MGOfk0BNjL8r",
        "outputId": "cab37f82-11bf-4baf-cb66-4314a1daea83"
      },
      "execution_count": 28,
      "outputs": [
        {
          "output_type": "stream",
          "name": "stdout",
          "text": [
            "[1, 2, 3, 4, 5, 6, 7, 8, 9, 10]\n"
          ]
        }
      ]
    },
    {
      "cell_type": "code",
      "source": [
        "a=np.random.randint(0,10,(3,3))\n",
        "b=np.random.randint(10,20,(3,3))\n",
        "print(a)\n",
        "print(b)"
      ],
      "metadata": {
        "colab": {
          "base_uri": "https://localhost:8080/"
        },
        "id": "cvoNYBi1jphb",
        "outputId": "c7162a01-67b7-4aa2-917f-e272ab31ec67"
      },
      "execution_count": 29,
      "outputs": [
        {
          "output_type": "stream",
          "name": "stdout",
          "text": [
            "[[2 3 3]\n",
            " [8 3 8]\n",
            " [2 6 3]]\n",
            "[[13 16 10]\n",
            " [13 16 16]\n",
            " [13 15 14]]\n"
          ]
        }
      ]
    },
    {
      "cell_type": "code",
      "source": [
        "print(a+b) # addition by element wise\n",
        "print(a-b)\n",
        "print(a*b)\n",
        "print(a/b)"
      ],
      "metadata": {
        "colab": {
          "base_uri": "https://localhost:8080/"
        },
        "id": "g-myYR1okW0L",
        "outputId": "27a8b674-d733-4479-9db0-6e964be81cc8"
      },
      "execution_count": 30,
      "outputs": [
        {
          "output_type": "stream",
          "name": "stdout",
          "text": [
            "[[15 19 13]\n",
            " [21 19 24]\n",
            " [15 21 17]]\n",
            "[[-11 -13  -7]\n",
            " [ -5 -13  -8]\n",
            " [-11  -9 -11]]\n",
            "[[ 26  48  30]\n",
            " [104  48 128]\n",
            " [ 26  90  42]]\n",
            "[[0.15384615 0.1875     0.3       ]\n",
            " [0.61538462 0.1875     0.5       ]\n",
            " [0.15384615 0.4        0.21428571]]\n"
          ]
        }
      ]
    },
    {
      "cell_type": "code",
      "source": [
        "a=np.random.randint(0,10,(3,3))\n",
        "b=np.random.randint(10,20,(3,3))\n",
        "print(a)\n",
        "print(b)"
      ],
      "metadata": {
        "colab": {
          "base_uri": "https://localhost:8080/"
        },
        "id": "2BNcM58dknQL",
        "outputId": "452fe65d-0544-40af-bdf6-4d5b7986fe38"
      },
      "execution_count": 31,
      "outputs": [
        {
          "output_type": "stream",
          "name": "stdout",
          "text": [
            "[[0 3 0]\n",
            " [1 2 7]\n",
            " [2 3 2]]\n",
            "[[12 17 14]\n",
            " [18 11 17]\n",
            " [15 18 10]]\n"
          ]
        }
      ]
    },
    {
      "cell_type": "code",
      "source": [
        "print(np.add(a,b))\n",
        "print(np.subtract(a,b))\n",
        "print(np.multiply(a,b))\n",
        "print(np.divide(a,b))"
      ],
      "metadata": {
        "colab": {
          "base_uri": "https://localhost:8080/"
        },
        "id": "P4Pa_44YlJyr",
        "outputId": "fa1003f8-f4ec-403e-902b-d60ebbeb4046"
      },
      "execution_count": 32,
      "outputs": [
        {
          "output_type": "stream",
          "name": "stdout",
          "text": [
            "[[12 20 14]\n",
            " [19 13 24]\n",
            " [17 21 12]]\n",
            "[[-12 -14 -14]\n",
            " [-17  -9 -10]\n",
            " [-13 -15  -8]]\n",
            "[[  0  51   0]\n",
            " [ 18  22 119]\n",
            " [ 30  54  20]]\n",
            "[[0.         0.17647059 0.        ]\n",
            " [0.05555556 0.18181818 0.41176471]\n",
            " [0.13333333 0.16666667 0.2       ]]\n"
          ]
        }
      ]
    },
    {
      "cell_type": "markdown",
      "source": [
        "**Array Manipulation**"
      ],
      "metadata": {
        "id": "dmbKvWz8lmrT"
      }
    },
    {
      "cell_type": "code",
      "source": [
        "array=np.random.randint(0,10,(2,3))\n",
        "print(array)\n",
        "print(array.shape)"
      ],
      "metadata": {
        "colab": {
          "base_uri": "https://localhost:8080/"
        },
        "id": "4jQT-zMylZCL",
        "outputId": "eb90af53-d8ee-4e7e-8fb7-b802cc1c532a"
      },
      "execution_count": 33,
      "outputs": [
        {
          "output_type": "stream",
          "name": "stdout",
          "text": [
            "[[0 7 9]\n",
            " [9 3 4]]\n",
            "(2, 3)\n"
          ]
        }
      ]
    },
    {
      "cell_type": "code",
      "source": [
        "#transpose\n",
        "trans=np.transpose(array)\n",
        "print(trans)\n",
        "print(trans.shape)"
      ],
      "metadata": {
        "colab": {
          "base_uri": "https://localhost:8080/"
        },
        "id": "D69H69ykl2z6",
        "outputId": "df21bf99-c810-4429-ee5c-07c54869cad4"
      },
      "execution_count": 34,
      "outputs": [
        {
          "output_type": "stream",
          "name": "stdout",
          "text": [
            "[[0 9]\n",
            " [7 3]\n",
            " [9 4]]\n",
            "(3, 2)\n"
          ]
        }
      ]
    },
    {
      "cell_type": "code",
      "source": [
        "#another way to find transpose\n",
        "trans2=array.T\n",
        "print(trans2)\n",
        "print(trans2.shape)"
      ],
      "metadata": {
        "colab": {
          "base_uri": "https://localhost:8080/"
        },
        "id": "3z2bSu01mF8K",
        "outputId": "5feca978-7f42-40ba-cec5-36b0500a46bb"
      },
      "execution_count": 35,
      "outputs": [
        {
          "output_type": "stream",
          "name": "stdout",
          "text": [
            "[[0 9]\n",
            " [7 3]\n",
            " [9 4]]\n",
            "(3, 2)\n"
          ]
        }
      ]
    },
    {
      "cell_type": "code",
      "source": [
        "#reshape the array\n",
        "a=np.random.randint(0,10,(2,3))\n",
        "print(a)\n",
        "print(a.shape)"
      ],
      "metadata": {
        "colab": {
          "base_uri": "https://localhost:8080/"
        },
        "id": "tv---afXmrzK",
        "outputId": "21ffe298-64ad-4192-c1b7-9d769f8d7dbc"
      },
      "execution_count": 36,
      "outputs": [
        {
          "output_type": "stream",
          "name": "stdout",
          "text": [
            "[[0 4 1]\n",
            " [8 8 6]]\n",
            "(2, 3)\n"
          ]
        }
      ]
    },
    {
      "cell_type": "code",
      "source": [
        "b=a.reshape(3,2)\n",
        "print(b)\n",
        "print(b.shape)"
      ],
      "metadata": {
        "colab": {
          "base_uri": "https://localhost:8080/"
        },
        "id": "5JvseSxunNLq",
        "outputId": "1a7a0250-1559-4210-d787-7ad27af98ca2"
      },
      "execution_count": 37,
      "outputs": [
        {
          "output_type": "stream",
          "name": "stdout",
          "text": [
            "[[0 4]\n",
            " [1 8]\n",
            " [8 6]]\n",
            "(3, 2)\n"
          ]
        }
      ]
    },
    {
      "cell_type": "markdown",
      "source": [
        "This is the and"
      ],
      "metadata": {
        "id": "jXA14JWUlFc_"
      }
    },
    {
      "cell_type": "code",
      "source": [],
      "metadata": {
        "id": "YaLqRi_9nXUa"
      },
      "execution_count": 37,
      "outputs": []
    }
  ]
}